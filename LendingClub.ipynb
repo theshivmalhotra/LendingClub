{
 "cells": [
  {
   "cell_type": "code",
   "execution_count": 1,
   "metadata": {},
   "outputs": [],
   "source": [
    "import pandas as pd\n",
    "import numpy as np\n",
    "import matplotlib.pyplot as plt\n",
    "import seaborn as sns\n",
    "#importing relevant libraries"
   ]
  },
  {
   "cell_type": "code",
   "execution_count": 2,
   "metadata": {},
   "outputs": [
    {
     "name": "stderr",
     "output_type": "stream",
     "text": [
      "c:\\Users\\mash1006\\Anaconda3\\lib\\site-packages\\IPython\\core\\interactiveshell.py:3444: DtypeWarning: Columns (47) have mixed types.Specify dtype option on import or set low_memory=False.\n",
      "  exec(code_obj, self.user_global_ns, self.user_ns)\n"
     ]
    }
   ],
   "source": [
    "data=pd.read_csv('loan.csv')\n",
    "#importing dataset"
   ]
  },
  {
   "cell_type": "code",
   "execution_count": 10,
   "metadata": {},
   "outputs": [],
   "source": [
    "s=data.shape\n",
    "n=data.isnull().sum()\n",
    "#checking the shape of dataset to know of no. of drivers available & checking the no. of null enteries in the dataset as part of data cleaning process "
   ]
  },
  {
   "cell_type": "code",
   "execution_count": 131,
   "metadata": {},
   "outputs": [],
   "source": [
    "data1=data.dropna(axis=1,how='all')\n",
    "n1=data1.isnull().sum()"
   ]
  },
  {
   "cell_type": "code",
   "execution_count": 268,
   "metadata": {},
   "outputs": [
    {
     "data": {
      "text/plain": [
       "0.0"
      ]
     },
     "execution_count": 268,
     "metadata": {},
     "output_type": "execute_result"
    }
   ],
   "source": [
    "data2=data1.drop(data.columns[[10,11,51,19,28,29,47,4,34,18,32,15,7,46,40,41,51]],axis=1)\n",
    "n2=data2.isnull().sum()"
   ]
  },
  {
   "cell_type": "code",
   "execution_count": 313,
   "metadata": {},
   "outputs": [],
   "source": [
    "nan=float('NaN')\n",
    "data2.replace(0,nan,inplace=True)\n",
    "data2.replace('NA',nan,inplace=True)\n",
    "data3=data2.dropna(axis=1,thresh=21000)\n",
    "data3=data3.drop(['title','zip_code','id','loan_amnt','application_type','grade','member_id','last_credit_pull_d','term','int_rate','home_ownership','pymnt_plan','purpose','addr_state','earliest_cr_line','initial_list_status','funded_amnt','last_pymnt_d','total_pymnt','total_pymnt_inv'],axis=1)\n",
    "n3=data3.isnull().sum()\n",
    "#replacing null values with NaN & dropping irrelavant drivers on the basis of their deifnition and correlation matrix fromed through heatmap showing above"
   ]
  },
  {
   "cell_type": "code",
   "execution_count": 314,
   "metadata": {},
   "outputs": [
    {
     "name": "stdout",
     "output_type": "stream",
     "text": [
      "sub_grade 35\n",
      "annual_inc 5318\n",
      "verification_status 3\n",
      "loan_status 3\n",
      "dti 2867\n",
      "open_acc 40\n",
      "revol_util 1089\n"
     ]
    }
   ],
   "source": [
    "for i in data3.columns:\n",
    "    print(i,data3[i].nunique())\n",
    "\n",
    "n3=data3.isnull().sum()"
   ]
  },
  {
   "cell_type": "code",
   "execution_count": 298,
   "metadata": {},
   "outputs": [
    {
     "data": {
      "text/plain": [
       "sub_grade               object\n",
       "annual_inc             float64\n",
       "verification_status     object\n",
       "loan_status             object\n",
       "dti                    float64\n",
       "open_acc                 int64\n",
       "revol_util             float64\n",
       "dtype: object"
      ]
     },
     "execution_count": 298,
     "metadata": {},
     "output_type": "execute_result"
    }
   ],
   "source": [
    "data3.dtypes\n"
   ]
  },
  {
   "cell_type": "code",
   "execution_count": 317,
   "metadata": {},
   "outputs": [],
   "source": [
    "data3['sub_grade']=data3['sub_grade'].astype(str)\n",
    "data3['verification_status']=data3['verification_status'].astype(str)\n",
    "data3['loan_status']=data3['loan_status'].astype(str)\n",
    "data3['revol_util']=data3['revol_util'].str.replace('%','').astype(float)"
   ]
  },
  {
   "cell_type": "code",
   "execution_count": 323,
   "metadata": {},
   "outputs": [],
   "source": [
    "rev=data3['revol_util'].median()\n",
    "data3['revol_util']=data3['revol_util'].replace('nan',rev)\n",
    "dti=data3['dti'].median()\n",
    "data3['dti']=data3['dti'].replace('nan',dti)\n",
    "n3=data3.isnull().sum()"
   ]
  },
  {
   "cell_type": "code",
   "execution_count": 262,
   "metadata": {},
   "outputs": [
    {
     "data": {
      "text/plain": [
       "<function matplotlib.pyplot.show(close=None, block=None)>"
      ]
     },
     "execution_count": 262,
     "metadata": {},
     "output_type": "execute_result"
    },
    {
     "data": {
      "image/png": "[encoded data removed]",
      "text/plain": [
       "<Figure size 1152x360 with 1 Axes>"
      ]
     },
     "metadata": {
      "needs_background": "light"
     },
     "output_type": "display_data"
    }
   ],
   "source": [
    "plt.figure(figsize = (16,5))\n",
    "sns.heatmap(data3.corr(),annot=True,cmap='Greens',fmt='.1%',cbar=False)\n",
    "plt.show"
   ]
  },
  {
   "cell_type": "code",
   "execution_count": 270,
   "metadata": {},
   "outputs": [],
   "source": []
  },
  {
   "cell_type": "code",
   "execution_count": null,
   "metadata": {},
   "outputs": [],
   "source": []
  }
 ],
 "metadata": {
  "kernelspec": {
   "display_name": "Python 3.9.7 ('base')",
   "language": "python",
   "name": "python3"
  },
  "language_info": {
   "codemirror_mode": {
    "name": "ipython",
    "version": 3
   },
   "file_extension": ".py",
   "mimetype": "text/x-python",
   "name": "python",
   "nbconvert_exporter": "python",
   "pygments_lexer": "ipython3",
   "version": "3.9.7"
  },
  "orig_nbformat": 4,
  "vscode": {
   "interpreter": {
    "hash": "a6aae9e3b5b1a6982bb75e9b88e9c5453921bcfe9f533234dee128d1b4ee2325"
   }
  }
 },
 "nbformat": 4,
 "nbformat_minor": 2
}
